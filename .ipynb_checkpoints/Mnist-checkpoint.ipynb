{
 "cells": [
  {
   "cell_type": "code",
   "execution_count": 1,
   "metadata": {
    "id": "UhbTCC7ZuDvD"
   },
   "outputs": [],
   "source": [
    "import tensorflow as tf\n",
    "from sklearn.model_selection import train_test_split  # Import train_test_split function\n",
    "from tensorflow import keras\n",
    "from tensorflow.keras import layers\n",
    "import matplotlib.pyplot as plt\n"
   ]
  },
  {
   "cell_type": "code",
   "execution_count": 2,
   "metadata": {
    "colab": {
     "base_uri": "https://localhost:8080/"
    },
    "id": "ecb0WhJF-wO6",
    "outputId": "cca2e163-6129-4b72-e8ef-b0f9a8e483da"
   },
   "outputs": [
    {
     "name": "stdout",
     "output_type": "stream",
     "text": [
      "Downloading data from https://storage.googleapis.com/tensorflow/tf-keras-datasets/mnist.npz\n",
      "11490434/11490434 [==============================] - 0s 0us/step\n"
     ]
    }
   ],
   "source": [
    "\n",
    "# Load MNIST dataset\n",
    "(train_images, train_labels), (test_images, test_labels) = tf.keras.datasets.mnist.load_data()\n",
    "\n",
    "# Preprocess the data (optional)\n",
    "train_images = train_images.astype('float32') / 255.0\n",
    "test_images = test_images.astype('float32') / 255.0\n",
    "\n",
    "# Split the data into train, validation, and test sets\n",
    "# Assuming you want an 80-10-10 split\n",
    "\n",
    "# Optionally, you can split the test set into validation and test sets as well\n",
    "# val_images, test_images, val_labels, test_labels = train_test_split(\n",
    "#     test_images, test_labels, test_size=0.5, random_state=42)\n"
   ]
  },
  {
   "cell_type": "code",
   "execution_count": 3,
   "metadata": {
    "colab": {
     "base_uri": "https://localhost:8080/"
    },
    "id": "Ty9pqN1Z34G3",
    "outputId": "4096b1e7-4ee2-44cc-cc60-33cc868476db"
   },
   "outputs": [
    {
     "data": {
      "text/plain": [
       "(10000, 28, 28)"
      ]
     },
     "execution_count": 3,
     "metadata": {},
     "output_type": "execute_result"
    }
   ],
   "source": [
    "test_images.shape"
   ]
  },
  {
   "cell_type": "code",
   "execution_count": 4,
   "metadata": {
    "id": "57T7t9oP4QzC"
   },
   "outputs": [],
   "source": [
    "model = keras.Sequential([\n",
    "    layers.BatchNormalization(input_shape=(28, 28)),\n",
    "    layers.Flatten(),# Flatten the input images (28x28)\n",
    "    layers.Dense(128, activation='relu'),  # First hidden layer with 128 units and ReLU activation\n",
    "    layers.BatchNormalization(),\n",
    "    layers.Dropout(0.2),  # Dropout layer to prevent overfitting\n",
    "    layers.Dense(10, activation='softmax')  # Output layer with 10 units (for 10 classes) and softmax activation\n",
    "])"
   ]
  },
  {
   "cell_type": "code",
   "execution_count": 5,
   "metadata": {
    "id": "W7SRGstk-7NW"
   },
   "outputs": [],
   "source": [
    "model.compile(optimizer='adam',\n",
    "              loss='sparse_categorical_crossentropy',  # Use categorical cross-entropy for classification\n",
    "              metrics=['accuracy'])\n"
   ]
  },
  {
   "cell_type": "code",
   "execution_count": 6,
   "metadata": {
    "colab": {
     "base_uri": "https://localhost:8080/"
    },
    "id": "YbMFd6HFALSt",
    "outputId": "6cdcc625-33db-4aca-9a06-76a4cdec23db"
   },
   "outputs": [
    {
     "name": "stdout",
     "output_type": "stream",
     "text": [
      "Model: \"sequential\"\n",
      "_________________________________________________________________\n",
      " Layer (type)                Output Shape              Param #   \n",
      "=================================================================\n",
      " batch_normalization (Batch  (None, 28, 28)            112       \n",
      " Normalization)                                                  \n",
      "                                                                 \n",
      " flatten (Flatten)           (None, 784)               0         \n",
      "                                                                 \n",
      " dense (Dense)               (None, 128)               100480    \n",
      "                                                                 \n",
      " batch_normalization_1 (Bat  (None, 128)               512       \n",
      " chNormalization)                                                \n",
      "                                                                 \n",
      " dropout (Dropout)           (None, 128)               0         \n",
      "                                                                 \n",
      " dense_1 (Dense)             (None, 10)                1290      \n",
      "                                                                 \n",
      "=================================================================\n",
      "Total params: 102394 (399.98 KB)\n",
      "Trainable params: 102082 (398.76 KB)\n",
      "Non-trainable params: 312 (1.22 KB)\n",
      "_________________________________________________________________\n"
     ]
    }
   ],
   "source": [
    "model.summary()"
   ]
  },
  {
   "cell_type": "code",
   "execution_count": 7,
   "metadata": {
    "colab": {
     "base_uri": "https://localhost:8080/"
    },
    "id": "BAbHXsZEAQ2l",
    "outputId": "8b092d59-e230-426c-f397-e998f9c6d33a"
   },
   "outputs": [
    {
     "name": "stdout",
     "output_type": "stream",
     "text": [
      "Epoch 1/10\n",
      "1688/1688 [==============================] - 23s 6ms/step - loss: 0.2928 - accuracy: 0.9129 - val_loss: 0.1192 - val_accuracy: 0.9668\n",
      "Epoch 2/10\n",
      "1688/1688 [==============================] - 8s 5ms/step - loss: 0.1556 - accuracy: 0.9537 - val_loss: 0.0948 - val_accuracy: 0.9740\n",
      "Epoch 3/10\n",
      "1688/1688 [==============================] - 7s 4ms/step - loss: 0.1243 - accuracy: 0.9613 - val_loss: 0.0787 - val_accuracy: 0.9783\n",
      "Epoch 4/10\n",
      "1688/1688 [==============================] - 8s 5ms/step - loss: 0.1053 - accuracy: 0.9671 - val_loss: 0.0736 - val_accuracy: 0.9792\n",
      "Epoch 5/10\n",
      "1688/1688 [==============================] - 8s 5ms/step - loss: 0.0935 - accuracy: 0.9710 - val_loss: 0.0756 - val_accuracy: 0.9790\n",
      "Epoch 6/10\n",
      "1688/1688 [==============================] - 8s 4ms/step - loss: 0.0842 - accuracy: 0.9732 - val_loss: 0.0766 - val_accuracy: 0.9787\n",
      "Epoch 7/10\n",
      "1688/1688 [==============================] - 9s 5ms/step - loss: 0.0791 - accuracy: 0.9749 - val_loss: 0.0711 - val_accuracy: 0.9790\n",
      "Epoch 8/10\n",
      "1688/1688 [==============================] - 8s 4ms/step - loss: 0.0720 - accuracy: 0.9763 - val_loss: 0.0703 - val_accuracy: 0.9818\n",
      "Epoch 9/10\n",
      "1688/1688 [==============================] - 8s 5ms/step - loss: 0.0676 - accuracy: 0.9775 - val_loss: 0.0703 - val_accuracy: 0.9817\n",
      "Epoch 10/10\n",
      "1688/1688 [==============================] - 8s 5ms/step - loss: 0.0646 - accuracy: 0.9795 - val_loss: 0.0705 - val_accuracy: 0.9815\n"
     ]
    }
   ],
   "source": [
    "history = model.fit(train_images, train_labels,\n",
    "                    epochs=10,  # Adjust the number of epochs as needed\n",
    "                    validation_split=0.1)"
   ]
  },
  {
   "cell_type": "code",
   "execution_count": 8,
   "metadata": {
    "colab": {
     "base_uri": "https://localhost:8080/",
     "height": 481
    },
    "id": "7ABijtBOA6P1",
    "outputId": "b6c1aa96-51e8-4740-d6a1-9da33f747c9e"
   },
   "outputs": [
    {
     "data": {
      "image/png": "[encoded data removed]",
      "text/plain": [
       "<Figure size 1200x600 with 2 Axes>"
      ]
     },
     "metadata": {},
     "output_type": "display_data"
    }
   ],
   "source": [
    "\n",
    "# Assuming you have already trained your model and have the 'history' object\n",
    "\n",
    "# Plot training & validation accuracy values\n",
    "plt.figure(figsize=(12, 6))\n",
    "plt.subplot(1, 2, 1)\n",
    "plt.plot(history.history['accuracy'], label='Training Accuracy')\n",
    "plt.plot(history.history['val_accuracy'], label='Validation Accuracy')\n",
    "plt.title('Model Accuracy')\n",
    "plt.xlabel('Epoch')\n",
    "plt.ylabel('Accuracy')\n",
    "plt.legend()\n",
    "\n",
    "# Plot training & validation loss values\n",
    "plt.subplot(1, 2, 2)\n",
    "plt.plot(history.history['loss'], label='Training Loss')\n",
    "plt.plot(history.history['val_loss'], label='Validation Loss')\n",
    "plt.title('Model Loss')\n",
    "plt.xlabel('Epoch')\n",
    "plt.ylabel('Loss')\n",
    "plt.legend()\n",
    "\n",
    "plt.show()\n"
   ]
  },
  {
   "cell_type": "code",
   "execution_count": 9,
   "metadata": {
    "colab": {
     "base_uri": "https://localhost:8080/"
    },
    "id": "dOqM8O5BBhAB",
    "outputId": "5a19cbd7-96b3-40f6-ccb7-38a228f9ec81"
   },
   "outputs": [
    {
     "name": "stdout",
     "output_type": "stream",
     "text": [
      "313/313 [==============================] - 1s 2ms/step\n"
     ]
    }
   ],
   "source": [
    "pred=model.predict(test_images)\n"
   ]
  },
  {
   "cell_type": "code",
   "execution_count": 10,
   "metadata": {
    "colab": {
     "base_uri": "https://localhost:8080/"
    },
    "id": "vGmqY8ZDMXvG",
    "outputId": "77008372-2cc9-402b-cc0c-12a93ce5f3bc"
   },
   "outputs": [
    {
     "data": {
      "text/plain": [
       "array([[0, 0, 0, ..., 1, 0, 0],\n",
       "       [0, 0, 1, ..., 0, 0, 0],\n",
       "       [0, 1, 0, ..., 0, 0, 0],\n",
       "       ...,\n",
       "       [0, 0, 0, ..., 0, 0, 0],\n",
       "       [0, 0, 0, ..., 0, 0, 0],\n",
       "       [0, 0, 0, ..., 0, 0, 0]])"
      ]
     },
     "execution_count": 10,
     "metadata": {},
     "output_type": "execute_result"
    }
   ],
   "source": [
    "pred_int=pred>0.5\n",
    "pred_int.astype(\"int\")"
   ]
  },
  {
   "cell_type": "code",
   "execution_count": 11,
   "metadata": {
    "colab": {
     "base_uri": "https://localhost:8080/"
    },
    "id": "T5YUFPjlLg3O",
    "outputId": "4a9af3d6-4a76-4405-ceb7-a98f6752fa90"
   },
   "outputs": [
    {
     "data": {
      "text/plain": [
       "<tf.Tensor: shape=(10,), dtype=float32, numpy=array([0., 0., 0., 0., 0., 0., 0., 1., 0., 0.], dtype=float32)>"
      ]
     },
     "execution_count": 11,
     "metadata": {},
     "output_type": "execute_result"
    }
   ],
   "source": [
    "num_classes = 10  # Number of classes (adjust this based on your specific problem)\n",
    "\n",
    "# Convert test_labels to one-hot encoding\n",
    "one_hot_test_labels = tf.one_hot(test_labels, depth=num_classes)\n",
    "one_hot_test_labels[0]"
   ]
  },
  {
   "cell_type": "code",
   "execution_count": 12,
   "metadata": {
    "colab": {
     "base_uri": "https://localhost:8080/"
    },
    "id": "2MDPh_yLFwj-",
    "outputId": "722797d0-dd79-4d52-d313-2e047163b182"
   },
   "outputs": [
    {
     "name": "stdout",
     "output_type": "stream",
     "text": [
      "Accuracy: 99.55%\n"
     ]
    }
   ],
   "source": [
    "accuracy = tf.keras.metrics.Accuracy()\n",
    "accuracy.update_state(one_hot_test_labels, pred_int)\n",
    "acc_result = accuracy.result().numpy()\n",
    "\n",
    "print(f\"Accuracy: {acc_result * 100:.2f}%\")"
   ]
  },
  {
   "cell_type": "code",
   "execution_count": 13,
   "metadata": {
    "colab": {
     "base_uri": "https://localhost:8080/"
    },
    "id": "rsl4CyL-LEBt",
    "outputId": "c9dcb387-9f78-495e-a7fe-fb0bdf46bd0e"
   },
   "outputs": [
    {
     "name": "stdout",
     "output_type": "stream",
     "text": [
      "313/313 [==============================] - 1s 2ms/step - loss: 0.0810 - accuracy: 0.9772\n"
     ]
    }
   ],
   "source": [
    "evaluation = model.evaluate(test_images, test_labels)\n"
   ]
  },
  {
   "cell_type": "code",
   "execution_count": 14,
   "metadata": {
    "colab": {
     "base_uri": "https://localhost:8080/"
    },
    "id": "KsKPJl4W1SXt",
    "outputId": "94c9ce32-4d72-4759-f871-3fa6fc0d3489"
   },
   "outputs": [
    {
     "data": {
      "text/plain": [
       "[0.08098115026950836, 0.9771999716758728]"
      ]
     },
     "execution_count": 14,
     "metadata": {},
     "output_type": "execute_result"
    }
   ],
   "source": [
    "evaluation\n"
   ]
  },
  {
   "cell_type": "code",
   "execution_count": 15,
   "metadata": {
    "colab": {
     "base_uri": "https://localhost:8080/"
    },
    "id": "peP_W2Ox10ts",
    "outputId": "88ab01ca-1847-42d2-9892-d97df7c2451c"
   },
   "outputs": [
    {
     "name": "stdout",
     "output_type": "stream",
     "text": [
      "\u001b[33mhint: Using 'master' as the name for the initial branch. This default branch name\u001b[m\n",
      "\u001b[33mhint: is subject to change. To configure the initial branch name to use in all\u001b[m\n",
      "\u001b[33mhint: of your new repositories, which will suppress this warning, call:\u001b[m\n",
      "\u001b[33mhint: \u001b[m\n",
      "\u001b[33mhint: \tgit config --global init.defaultBranch <name>\u001b[m\n",
      "\u001b[33mhint: \u001b[m\n",
      "\u001b[33mhint: Names commonly chosen instead of 'master' are 'main', 'trunk' and\u001b[m\n",
      "\u001b[33mhint: 'development'. The just-created branch can be renamed via this command:\u001b[m\n",
      "\u001b[33mhint: \u001b[m\n",
      "\u001b[33mhint: \tgit branch -m <name>\u001b[m\n",
      "Initialized empty Git repository in /content/.git/\n"
     ]
    }
   ],
   "source": [
    "!git init\n"
   ]
  },
  {
   "cell_type": "code",
   "execution_count": 16,
   "metadata": {
    "id": "X5PcH2FHci_2"
   },
   "outputs": [],
   "source": [
    "!git add .\n"
   ]
  },
  {
   "cell_type": "code",
   "execution_count": 17,
   "metadata": {
    "colab": {
     "base_uri": "https://localhost:8080/"
    },
    "id": "sWuhFlxMcqnl",
    "outputId": "2c555a8c-0f86-47bf-f951-8af4fe071b0b"
   },
   "outputs": [
    {
     "name": "stdout",
     "output_type": "stream",
     "text": [
      "On branch master\n",
      "\n",
      "No commits yet\n",
      "\n",
      "Changes to be committed:\n",
      "  (use \"git rm --cached <file>...\" to unstage)\n",
      "\t\u001b[32mnew file:   .config/.last_opt_in_prompt.yaml\u001b[m\n",
      "\t\u001b[32mnew file:   .config/.last_survey_prompt.yaml\u001b[m\n",
      "\t\u001b[32mnew file:   .config/.last_update_check.json\u001b[m\n",
      "\t\u001b[32mnew file:   .config/active_config\u001b[m\n",
      "\t\u001b[32mnew file:   .config/config_sentinel\u001b[m\n",
      "\t\u001b[32mnew file:   .config/configurations/config_default\u001b[m\n",
      "\t\u001b[32mnew file:   .config/default_configs.db\u001b[m\n",
      "\t\u001b[32mnew file:   .config/gce\u001b[m\n",
      "\t\u001b[32mnew file:   .config/logs/2023.12.19/14.19.39.750127.log\u001b[m\n",
      "\t\u001b[32mnew file:   .config/logs/2023.12.19/14.20.06.327238.log\u001b[m\n",
      "\t\u001b[32mnew file:   .config/logs/2023.12.19/14.20.16.265569.log\u001b[m\n",
      "\t\u001b[32mnew file:   .config/logs/2023.12.19/14.20.25.266295.log\u001b[m\n",
      "\t\u001b[32mnew file:   .config/logs/2023.12.19/14.20.35.154355.log\u001b[m\n",
      "\t\u001b[32mnew file:   .config/logs/2023.12.19/14.20.35.996145.log\u001b[m\n",
      "\t\u001b[32mnew file:   Screenshot 2023-12-29 124520.png\u001b[m\n",
      "\t\u001b[32mnew file:   Screenshot 2023-12-29 124829.png\u001b[m\n",
      "\t\u001b[32mnew file:   Screenshot 2023-12-29 124846.png\u001b[m\n",
      "\t\u001b[32mnew file:   sample_data/README.md\u001b[m\n",
      "\t\u001b[32mnew file:   sample_data/anscombe.json\u001b[m\n",
      "\t\u001b[32mnew file:   sample_data/california_housing_test.csv\u001b[m\n",
      "\t\u001b[32mnew file:   sample_data/california_housing_train.csv\u001b[m\n",
      "\t\u001b[32mnew file:   sample_data/mnist_test.csv\u001b[m\n",
      "\t\u001b[32mnew file:   sample_data/mnist_train_small.csv\u001b[m\n",
      "\n"
     ]
    }
   ],
   "source": [
    "!git status"
   ]
  },
  {
   "cell_type": "code",
   "execution_count": 18,
   "metadata": {
    "id": "FykpMxkOcsg5"
   },
   "outputs": [],
   "source": [
    "!git branch -M main"
   ]
  },
  {
   "cell_type": "code",
   "execution_count": 23,
   "metadata": {
    "colab": {
     "base_uri": "https://localhost:8080/"
    },
    "id": "Qzk6QiK2cwK_",
    "outputId": "a8fb86c2-1df6-4093-b417-895c71e2c7c9"
   },
   "outputs": [
    {
     "name": "stdout",
     "output_type": "stream",
     "text": [
      "[main (root-commit) 8869be4] Mnist-Tensorflow\n",
      " 23 files changed, 50872 insertions(+)\n",
      " create mode 100644 .config/.last_opt_in_prompt.yaml\n",
      " create mode 100644 .config/.last_survey_prompt.yaml\n",
      " create mode 100644 .config/.last_update_check.json\n",
      " create mode 100644 .config/active_config\n",
      " create mode 100644 .config/config_sentinel\n",
      " create mode 100644 .config/configurations/config_default\n",
      " create mode 100644 .config/default_configs.db\n",
      " create mode 100644 .config/gce\n",
      " create mode 100644 .config/logs/2023.12.19/14.19.39.750127.log\n",
      " create mode 100644 .config/logs/2023.12.19/14.20.06.327238.log\n",
      " create mode 100644 .config/logs/2023.12.19/14.20.16.265569.log\n",
      " create mode 100644 .config/logs/2023.12.19/14.20.25.266295.log\n",
      " create mode 100644 .config/logs/2023.12.19/14.20.35.154355.log\n",
      " create mode 100644 .config/logs/2023.12.19/14.20.35.996145.log\n",
      " create mode 100644 Screenshot 2023-12-29 124520.png\n",
      " create mode 100644 Screenshot 2023-12-29 124829.png\n",
      " create mode 100644 Screenshot 2023-12-29 124846.png\n",
      " create mode 100755 sample_data/README.md\n",
      " create mode 100755 sample_data/anscombe.json\n",
      " create mode 100644 sample_data/california_housing_test.csv\n",
      " create mode 100644 sample_data/california_housing_train.csv\n",
      " create mode 100644 sample_data/mnist_test.csv\n",
      " create mode 100644 sample_data/mnist_train_small.csv\n"
     ]
    }
   ],
   "source": [
    "!git commit -m \"Mnist-Tensorflow\""
   ]
  },
  {
   "cell_type": "code",
   "execution_count": 21,
   "metadata": {
    "id": "CZJ-hHiZc2en"
   },
   "outputs": [],
   "source": [
    "!git remote add origin https://github.com/Rajesh1215/Mnist-tensorflow.git\n"
   ]
  },
  {
   "cell_type": "code",
   "execution_count": 22,
   "metadata": {
    "id": "eHDmkS2ic8sR"
   },
   "outputs": [],
   "source": [
    "!git config --global user.email \"kingrajesh115@gmail.com\""
   ]
  },
  {
   "cell_type": "code",
   "execution_count": 24,
   "metadata": {
    "colab": {
     "base_uri": "https://localhost:8080/"
    },
    "id": "XfK2PJUOdHWa",
    "outputId": "268dbe5b-ff1d-4d89-b2ca-8bcace0c7354"
   },
   "outputs": [
    {
     "name": "stdout",
     "output_type": "stream",
     "text": [
      "fatal: could not read Username for 'https://github.com': No such device or address\n"
     ]
    }
   ],
   "source": [
    "!git push -u origin main"
   ]
  },
  {
   "cell_type": "code",
   "execution_count": null,
   "metadata": {
    "id": "LdfZKVYedMhC"
   },
   "outputs": [],
   "source": []
  }
 ],
 "metadata": {
  "accelerator": "GPU",
  "colab": {
   "gpuType": "T4",
   "provenance": []
  },
  "kernelspec": {
   "display_name": "Python 3 (ipykernel)",
   "language": "python",
   "name": "python3"
  },
  "language_info": {
   "codemirror_mode": {
    "name": "ipython",
    "version": 3
   },
   "file_extension": ".py",
   "mimetype": "text/x-python",
   "name": "python",
   "nbconvert_exporter": "python",
   "pygments_lexer": "ipython3",
   "version": "3.9.13"
  }
 },
 "nbformat": 4,
 "nbformat_minor": 1
}
